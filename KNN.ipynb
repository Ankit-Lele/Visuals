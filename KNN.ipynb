{
 "cells": [
  {
   "cell_type": "code",
   "execution_count": 4,
   "id": "3f303936",
   "metadata": {},
   "outputs": [
    {
     "data": {
      "text/plain": [
       "emp_title                            833\n",
       "emp_length                           817\n",
       "state                                  0\n",
       "homeownership                          0\n",
       "annual_income                          0\n",
       "verified_income                        0\n",
       "debt_to_income                        24\n",
       "annual_income_joint                 8505\n",
       "verification_income_joint           8545\n",
       "debt_to_income_joint                8505\n",
       "delinq_2y                              0\n",
       "months_since_last_delinq            5658\n",
       "earliest_credit_line                   0\n",
       "inquiries_last_12m                     0\n",
       "total_credit_lines                     0\n",
       "open_credit_lines                      0\n",
       "total_credit_limit                     0\n",
       "total_credit_utilized                  0\n",
       "num_collections_last_12m               0\n",
       "num_historical_failed_to_pay           0\n",
       "months_since_90d_late               7715\n",
       "current_accounts_delinq                0\n",
       "total_collection_amount_ever           0\n",
       "current_installment_accounts           0\n",
       "accounts_opened_24m                    0\n",
       "months_since_last_credit_inquiry    1271\n",
       "num_satisfactory_accounts              0\n",
       "num_accounts_120d_past_due           318\n",
       "num_accounts_30d_past_due              0\n",
       "num_active_debit_accounts              0\n",
       "total_debit_limit                      0\n",
       "num_total_cc_accounts                  0\n",
       "num_open_cc_accounts                   0\n",
       "num_cc_carrying_balance                0\n",
       "num_mort_accounts                      0\n",
       "account_never_delinq_percent           0\n",
       "tax_liens                              0\n",
       "public_record_bankrupt                 0\n",
       "loan_purpose                           0\n",
       "application_type                       0\n",
       "loan_amount                            0\n",
       "term                                   0\n",
       "interest_rate                          0\n",
       "installment                            0\n",
       "grade                                  0\n",
       "sub_grade                              0\n",
       "issue_month                            0\n",
       "loan_status                            0\n",
       "initial_listing_status                 0\n",
       "disbursement_method                    0\n",
       "balance                                0\n",
       "paid_total                             0\n",
       "paid_principal                         0\n",
       "paid_interest                          0\n",
       "paid_late_fees                         0\n",
       "dtype: int64"
      ]
     },
     "execution_count": 4,
     "metadata": {},
     "output_type": "execute_result"
    }
   ],
   "source": [
    "import pandas as pd\n",
    "import numpy as np\n",
    "import matplotlib.pyplot as plt\n",
    "import seaborn as sns\n",
    "\n",
    "dataset = pd.read_csv(\"loans_full_schema.csv\")\n",
    "\n",
    "dataset.isnull().sum()"
   ]
  },
  {
   "cell_type": "code",
   "execution_count": 11,
   "id": "db6bfbe7",
   "metadata": {},
   "outputs": [],
   "source": [
    "dataset.drop('annual_income_joint', axis=1, inplace=True)"
   ]
  },
  {
   "cell_type": "code",
   "execution_count": 12,
   "id": "fe2fbd23",
   "metadata": {},
   "outputs": [],
   "source": [
    "dataset.drop('verification_income_joint', axis=1, inplace=True)"
   ]
  },
  {
   "cell_type": "code",
   "execution_count": 13,
   "id": "15dfd31e",
   "metadata": {},
   "outputs": [],
   "source": [
    "dataset.drop('debt_to_income_joint', axis=1, inplace=True)"
   ]
  },
  {
   "cell_type": "code",
   "execution_count": 14,
   "id": "80b906a0",
   "metadata": {},
   "outputs": [],
   "source": [
    "dataset.drop('months_since_last_delinq', axis=1, inplace=True)"
   ]
  },
  {
   "cell_type": "code",
   "execution_count": 15,
   "id": "8cd2eebf",
   "metadata": {},
   "outputs": [],
   "source": [
    "dataset.drop('months_since_90d_late', axis=1, inplace=True)"
   ]
  },
  {
   "cell_type": "code",
   "execution_count": 16,
   "id": "add7abb8",
   "metadata": {},
   "outputs": [],
   "source": [
    "dataset.drop('months_since_last_credit_inquiry', axis=1, inplace=True)"
   ]
  },
  {
   "cell_type": "code",
   "execution_count": 17,
   "id": "7b12aa18",
   "metadata": {},
   "outputs": [],
   "source": [
    "dataset.drop('num_accounts_120d_past_due', axis=1, inplace=True)"
   ]
  },
  {
   "cell_type": "code",
   "execution_count": 18,
   "id": "404b726d",
   "metadata": {},
   "outputs": [
    {
     "data": {
      "text/plain": [
       "emp_title                       0\n",
       "emp_length                      0\n",
       "state                           0\n",
       "homeownership                   0\n",
       "annual_income                   0\n",
       "verified_income                 0\n",
       "debt_to_income                  0\n",
       "delinq_2y                       0\n",
       "earliest_credit_line            0\n",
       "inquiries_last_12m              0\n",
       "total_credit_lines              0\n",
       "open_credit_lines               0\n",
       "total_credit_limit              0\n",
       "total_credit_utilized           0\n",
       "num_collections_last_12m        0\n",
       "num_historical_failed_to_pay    0\n",
       "current_accounts_delinq         0\n",
       "total_collection_amount_ever    0\n",
       "current_installment_accounts    0\n",
       "accounts_opened_24m             0\n",
       "num_satisfactory_accounts       0\n",
       "num_accounts_30d_past_due       0\n",
       "num_active_debit_accounts       0\n",
       "total_debit_limit               0\n",
       "num_total_cc_accounts           0\n",
       "num_open_cc_accounts            0\n",
       "num_cc_carrying_balance         0\n",
       "num_mort_accounts               0\n",
       "account_never_delinq_percent    0\n",
       "tax_liens                       0\n",
       "public_record_bankrupt          0\n",
       "loan_purpose                    0\n",
       "application_type                0\n",
       "loan_amount                     0\n",
       "term                            0\n",
       "interest_rate                   0\n",
       "installment                     0\n",
       "grade                           0\n",
       "sub_grade                       0\n",
       "issue_month                     0\n",
       "loan_status                     0\n",
       "initial_listing_status          0\n",
       "disbursement_method             0\n",
       "balance                         0\n",
       "paid_total                      0\n",
       "paid_principal                  0\n",
       "paid_interest                   0\n",
       "paid_late_fees                  0\n",
       "dtype: int64"
      ]
     },
     "execution_count": 18,
     "metadata": {},
     "output_type": "execute_result"
    }
   ],
   "source": [
    "dataset.isnull().sum()"
   ]
  },
  {
   "cell_type": "code",
   "execution_count": 6,
   "id": "81b8edcf",
   "metadata": {},
   "outputs": [],
   "source": [
    "dataset['debt_to_income']=dataset['debt_to_income'].fillna(dataset['debt_to_income'].mode().values[0] )"
   ]
  },
  {
   "cell_type": "code",
   "execution_count": 7,
   "id": "f639a647",
   "metadata": {},
   "outputs": [
    {
     "data": {
      "text/plain": [
       "emp_title                            833\n",
       "emp_length                           817\n",
       "state                                  0\n",
       "homeownership                          0\n",
       "annual_income                          0\n",
       "verified_income                        0\n",
       "debt_to_income                         0\n",
       "annual_income_joint                 8505\n",
       "verification_income_joint           8545\n",
       "debt_to_income_joint                8505\n",
       "delinq_2y                              0\n",
       "months_since_last_delinq            5658\n",
       "earliest_credit_line                   0\n",
       "inquiries_last_12m                     0\n",
       "total_credit_lines                     0\n",
       "open_credit_lines                      0\n",
       "total_credit_limit                     0\n",
       "total_credit_utilized                  0\n",
       "num_collections_last_12m               0\n",
       "num_historical_failed_to_pay           0\n",
       "months_since_90d_late               7715\n",
       "current_accounts_delinq                0\n",
       "total_collection_amount_ever           0\n",
       "current_installment_accounts           0\n",
       "accounts_opened_24m                    0\n",
       "months_since_last_credit_inquiry    1271\n",
       "num_satisfactory_accounts              0\n",
       "num_accounts_120d_past_due           318\n",
       "num_accounts_30d_past_due              0\n",
       "num_active_debit_accounts              0\n",
       "total_debit_limit                      0\n",
       "num_total_cc_accounts                  0\n",
       "num_open_cc_accounts                   0\n",
       "num_cc_carrying_balance                0\n",
       "num_mort_accounts                      0\n",
       "account_never_delinq_percent           0\n",
       "tax_liens                              0\n",
       "public_record_bankrupt                 0\n",
       "loan_purpose                           0\n",
       "application_type                       0\n",
       "loan_amount                            0\n",
       "term                                   0\n",
       "interest_rate                          0\n",
       "installment                            0\n",
       "grade                                  0\n",
       "sub_grade                              0\n",
       "issue_month                            0\n",
       "loan_status                            0\n",
       "initial_listing_status                 0\n",
       "disbursement_method                    0\n",
       "balance                                0\n",
       "paid_total                             0\n",
       "paid_principal                         0\n",
       "paid_interest                          0\n",
       "paid_late_fees                         0\n",
       "dtype: int64"
      ]
     },
     "execution_count": 7,
     "metadata": {},
     "output_type": "execute_result"
    }
   ],
   "source": [
    "dataset.isnull().sum()"
   ]
  },
  {
   "cell_type": "code",
   "execution_count": 8,
   "id": "d2055a98",
   "metadata": {},
   "outputs": [],
   "source": [
    "dataset['emp_title']=dataset['emp_title'].fillna(dataset['emp_title'].mode().values[0] )"
   ]
  },
  {
   "cell_type": "code",
   "execution_count": 9,
   "id": "3f3ca9bf",
   "metadata": {},
   "outputs": [],
   "source": [
    "dataset['emp_length']=dataset['emp_length'].fillna(dataset['emp_length'].mode().values[0] )"
   ]
  },
  {
   "cell_type": "code",
   "execution_count": 19,
   "id": "891ab2b8",
   "metadata": {},
   "outputs": [
    {
     "data": {
      "text/plain": [
       "emp_title                       0\n",
       "emp_length                      0\n",
       "state                           0\n",
       "homeownership                   0\n",
       "annual_income                   0\n",
       "verified_income                 0\n",
       "debt_to_income                  0\n",
       "delinq_2y                       0\n",
       "earliest_credit_line            0\n",
       "inquiries_last_12m              0\n",
       "total_credit_lines              0\n",
       "open_credit_lines               0\n",
       "total_credit_limit              0\n",
       "total_credit_utilized           0\n",
       "num_collections_last_12m        0\n",
       "num_historical_failed_to_pay    0\n",
       "current_accounts_delinq         0\n",
       "total_collection_amount_ever    0\n",
       "current_installment_accounts    0\n",
       "accounts_opened_24m             0\n",
       "num_satisfactory_accounts       0\n",
       "num_accounts_30d_past_due       0\n",
       "num_active_debit_accounts       0\n",
       "total_debit_limit               0\n",
       "num_total_cc_accounts           0\n",
       "num_open_cc_accounts            0\n",
       "num_cc_carrying_balance         0\n",
       "num_mort_accounts               0\n",
       "account_never_delinq_percent    0\n",
       "tax_liens                       0\n",
       "public_record_bankrupt          0\n",
       "loan_purpose                    0\n",
       "application_type                0\n",
       "loan_amount                     0\n",
       "term                            0\n",
       "interest_rate                   0\n",
       "installment                     0\n",
       "grade                           0\n",
       "sub_grade                       0\n",
       "issue_month                     0\n",
       "loan_status                     0\n",
       "initial_listing_status          0\n",
       "disbursement_method             0\n",
       "balance                         0\n",
       "paid_total                      0\n",
       "paid_principal                  0\n",
       "paid_interest                   0\n",
       "paid_late_fees                  0\n",
       "dtype: int64"
      ]
     },
     "execution_count": 19,
     "metadata": {},
     "output_type": "execute_result"
    }
   ],
   "source": [
    "dataset.isnull().sum()"
   ]
  },
  {
   "cell_type": "code",
   "execution_count": 19,
   "id": "6cd7cc2d",
   "metadata": {},
   "outputs": [
    {
     "data": {
      "text/html": [
       "<div>\n",
       "<style scoped>\n",
       "    .dataframe tbody tr th:only-of-type {\n",
       "        vertical-align: middle;\n",
       "    }\n",
       "\n",
       "    .dataframe tbody tr th {\n",
       "        vertical-align: top;\n",
       "    }\n",
       "\n",
       "    .dataframe thead th {\n",
       "        text-align: right;\n",
       "    }\n",
       "</style>\n",
       "<table border=\"1\" class=\"dataframe\">\n",
       "  <thead>\n",
       "    <tr style=\"text-align: right;\">\n",
       "      <th></th>\n",
       "      <th>emp_title</th>\n",
       "      <th>emp_length</th>\n",
       "      <th>state</th>\n",
       "      <th>homeownership</th>\n",
       "      <th>annual_income</th>\n",
       "      <th>verified_income</th>\n",
       "      <th>debt_to_income</th>\n",
       "      <th>delinq_2y</th>\n",
       "      <th>earliest_credit_line</th>\n",
       "      <th>inquiries_last_12m</th>\n",
       "      <th>...</th>\n",
       "      <th>sub_grade</th>\n",
       "      <th>issue_month</th>\n",
       "      <th>loan_status</th>\n",
       "      <th>initial_listing_status</th>\n",
       "      <th>disbursement_method</th>\n",
       "      <th>balance</th>\n",
       "      <th>paid_total</th>\n",
       "      <th>paid_principal</th>\n",
       "      <th>paid_interest</th>\n",
       "      <th>paid_late_fees</th>\n",
       "    </tr>\n",
       "  </thead>\n",
       "  <tbody>\n",
       "    <tr>\n",
       "      <th>0</th>\n",
       "      <td>global config engineer</td>\n",
       "      <td>3.0</td>\n",
       "      <td>NJ</td>\n",
       "      <td>MORTGAGE</td>\n",
       "      <td>90000.0</td>\n",
       "      <td>Verified</td>\n",
       "      <td>18.01</td>\n",
       "      <td>0</td>\n",
       "      <td>2001</td>\n",
       "      <td>6</td>\n",
       "      <td>...</td>\n",
       "      <td>C3</td>\n",
       "      <td>Mar-2018</td>\n",
       "      <td>Current</td>\n",
       "      <td>whole</td>\n",
       "      <td>Cash</td>\n",
       "      <td>27015.86</td>\n",
       "      <td>1999.33</td>\n",
       "      <td>984.14</td>\n",
       "      <td>1015.19</td>\n",
       "      <td>0.0</td>\n",
       "    </tr>\n",
       "    <tr>\n",
       "      <th>1</th>\n",
       "      <td>warehouse office clerk</td>\n",
       "      <td>10.0</td>\n",
       "      <td>HI</td>\n",
       "      <td>RENT</td>\n",
       "      <td>40000.0</td>\n",
       "      <td>Not Verified</td>\n",
       "      <td>5.04</td>\n",
       "      <td>0</td>\n",
       "      <td>1996</td>\n",
       "      <td>1</td>\n",
       "      <td>...</td>\n",
       "      <td>C1</td>\n",
       "      <td>Feb-2018</td>\n",
       "      <td>Current</td>\n",
       "      <td>whole</td>\n",
       "      <td>Cash</td>\n",
       "      <td>4651.37</td>\n",
       "      <td>499.12</td>\n",
       "      <td>348.63</td>\n",
       "      <td>150.49</td>\n",
       "      <td>0.0</td>\n",
       "    </tr>\n",
       "    <tr>\n",
       "      <th>2</th>\n",
       "      <td>assembly</td>\n",
       "      <td>3.0</td>\n",
       "      <td>WI</td>\n",
       "      <td>RENT</td>\n",
       "      <td>40000.0</td>\n",
       "      <td>Source Verified</td>\n",
       "      <td>21.15</td>\n",
       "      <td>0</td>\n",
       "      <td>2006</td>\n",
       "      <td>4</td>\n",
       "      <td>...</td>\n",
       "      <td>D1</td>\n",
       "      <td>Feb-2018</td>\n",
       "      <td>Current</td>\n",
       "      <td>fractional</td>\n",
       "      <td>Cash</td>\n",
       "      <td>1824.63</td>\n",
       "      <td>281.80</td>\n",
       "      <td>175.37</td>\n",
       "      <td>106.43</td>\n",
       "      <td>0.0</td>\n",
       "    </tr>\n",
       "    <tr>\n",
       "      <th>3</th>\n",
       "      <td>customer service</td>\n",
       "      <td>1.0</td>\n",
       "      <td>PA</td>\n",
       "      <td>RENT</td>\n",
       "      <td>30000.0</td>\n",
       "      <td>Not Verified</td>\n",
       "      <td>10.16</td>\n",
       "      <td>0</td>\n",
       "      <td>2007</td>\n",
       "      <td>0</td>\n",
       "      <td>...</td>\n",
       "      <td>A3</td>\n",
       "      <td>Jan-2018</td>\n",
       "      <td>Current</td>\n",
       "      <td>whole</td>\n",
       "      <td>Cash</td>\n",
       "      <td>18853.26</td>\n",
       "      <td>3312.89</td>\n",
       "      <td>2746.74</td>\n",
       "      <td>566.15</td>\n",
       "      <td>0.0</td>\n",
       "    </tr>\n",
       "    <tr>\n",
       "      <th>4</th>\n",
       "      <td>security supervisor</td>\n",
       "      <td>10.0</td>\n",
       "      <td>CA</td>\n",
       "      <td>RENT</td>\n",
       "      <td>35000.0</td>\n",
       "      <td>Verified</td>\n",
       "      <td>57.96</td>\n",
       "      <td>0</td>\n",
       "      <td>2008</td>\n",
       "      <td>7</td>\n",
       "      <td>...</td>\n",
       "      <td>C3</td>\n",
       "      <td>Mar-2018</td>\n",
       "      <td>Current</td>\n",
       "      <td>whole</td>\n",
       "      <td>Cash</td>\n",
       "      <td>21430.15</td>\n",
       "      <td>2324.65</td>\n",
       "      <td>1569.85</td>\n",
       "      <td>754.80</td>\n",
       "      <td>0.0</td>\n",
       "    </tr>\n",
       "  </tbody>\n",
       "</table>\n",
       "<p>5 rows × 48 columns</p>\n",
       "</div>"
      ],
      "text/plain": [
       "                 emp_title  emp_length state homeownership  annual_income  \\\n",
       "0  global config engineer          3.0    NJ      MORTGAGE        90000.0   \n",
       "1   warehouse office clerk        10.0    HI          RENT        40000.0   \n",
       "2                 assembly         3.0    WI          RENT        40000.0   \n",
       "3         customer service         1.0    PA          RENT        30000.0   \n",
       "4     security supervisor         10.0    CA          RENT        35000.0   \n",
       "\n",
       "   verified_income  debt_to_income  delinq_2y  earliest_credit_line  \\\n",
       "0         Verified           18.01          0                  2001   \n",
       "1     Not Verified            5.04          0                  1996   \n",
       "2  Source Verified           21.15          0                  2006   \n",
       "3     Not Verified           10.16          0                  2007   \n",
       "4         Verified           57.96          0                  2008   \n",
       "\n",
       "   inquiries_last_12m  ...  sub_grade  issue_month  loan_status  \\\n",
       "0                   6  ...         C3     Mar-2018      Current   \n",
       "1                   1  ...         C1     Feb-2018      Current   \n",
       "2                   4  ...         D1     Feb-2018      Current   \n",
       "3                   0  ...         A3     Jan-2018      Current   \n",
       "4                   7  ...         C3     Mar-2018      Current   \n",
       "\n",
       "   initial_listing_status  disbursement_method   balance  paid_total  \\\n",
       "0                   whole                 Cash  27015.86     1999.33   \n",
       "1                   whole                 Cash   4651.37      499.12   \n",
       "2              fractional                 Cash   1824.63      281.80   \n",
       "3                   whole                 Cash  18853.26     3312.89   \n",
       "4                   whole                 Cash  21430.15     2324.65   \n",
       "\n",
       "   paid_principal  paid_interest  paid_late_fees  \n",
       "0          984.14        1015.19             0.0  \n",
       "1          348.63         150.49             0.0  \n",
       "2          175.37         106.43             0.0  \n",
       "3         2746.74         566.15             0.0  \n",
       "4         1569.85         754.80             0.0  \n",
       "\n",
       "[5 rows x 48 columns]"
      ]
     },
     "execution_count": 19,
     "metadata": {},
     "output_type": "execute_result"
    }
   ],
   "source": [
    "dataset.head()"
   ]
  },
  {
   "cell_type": "code",
   "execution_count": 22,
   "id": "20a1f38c",
   "metadata": {},
   "outputs": [
    {
     "data": {
      "text/plain": [
       "(10000, 48)"
      ]
     },
     "execution_count": 22,
     "metadata": {},
     "output_type": "execute_result"
    }
   ],
   "source": [
    "dataset.shape"
   ]
  },
  {
   "cell_type": "code",
   "execution_count": 68,
   "id": "e20a0428",
   "metadata": {},
   "outputs": [
    {
     "name": "stdout",
     "output_type": "stream",
     "text": [
      "[ 4  4 35 ... 24 20  9]\n",
      "continuous\n",
      "multiclass\n"
     ]
    }
   ],
   "source": [
    "from sklearn import preprocessing\n",
    "from sklearn import utils\n",
    "lab_enc = preprocessing.LabelEncoder()\n",
    "training_scores_encoded = lab_enc.fit_transform(Y_train)\n",
    "print(training_scores_encoded)\n",
    "print(utils.multiclass.type_of_target(Y_train))\n",
    "print(utils.multiclass.type_of_target(Y_train.astype('int')))"
   ]
  },
  {
   "cell_type": "code",
   "execution_count": 39,
   "id": "61168984",
   "metadata": {},
   "outputs": [],
   "source": [
    "dataset.drop('emp_title', axis=1, inplace=True)"
   ]
  },
  {
   "cell_type": "code",
   "execution_count": 41,
   "id": "a1cb88b2",
   "metadata": {},
   "outputs": [],
   "source": [
    "dataset.drop('homeownership', axis=1, inplace=True)"
   ]
  },
  {
   "cell_type": "code",
   "execution_count": 42,
   "id": "b70a6446",
   "metadata": {},
   "outputs": [],
   "source": [
    "dataset.drop('grade', axis=1, inplace=True)"
   ]
  },
  {
   "cell_type": "code",
   "execution_count": 43,
   "id": "5b6fc54a",
   "metadata": {},
   "outputs": [],
   "source": [
    "dataset.drop('sub_grade', axis=1, inplace=True)"
   ]
  },
  {
   "cell_type": "code",
   "execution_count": 44,
   "id": "0a42ef3a",
   "metadata": {},
   "outputs": [],
   "source": [
    "dataset.drop('issue_month', axis=1, inplace=True)"
   ]
  },
  {
   "cell_type": "code",
   "execution_count": 45,
   "id": "7e48fda3",
   "metadata": {},
   "outputs": [],
   "source": [
    "dataset.drop('loan_status', axis=1, inplace=True)"
   ]
  },
  {
   "cell_type": "code",
   "execution_count": 46,
   "id": "72162afe",
   "metadata": {},
   "outputs": [],
   "source": [
    "dataset.drop('initial_listing_status', axis=1, inplace=True)"
   ]
  },
  {
   "cell_type": "code",
   "execution_count": 47,
   "id": "c3906d23",
   "metadata": {},
   "outputs": [],
   "source": [
    "dataset.drop('disbursement_method', axis=1, inplace=True)"
   ]
  },
  {
   "cell_type": "code",
   "execution_count": 48,
   "id": "882f3221",
   "metadata": {},
   "outputs": [],
   "source": [
    "dataset.drop('loan_purpose', axis=1, inplace=True)\n",
    "dataset.drop('application_type', axis=1, inplace=True)\n",
    "dataset.drop('verified_income', axis=1, inplace=True)"
   ]
  },
  {
   "cell_type": "code",
   "execution_count": 3,
   "id": "aab8d31f",
   "metadata": {},
   "outputs": [
    {
     "ename": "NameError",
     "evalue": "name 'dataset' is not defined",
     "output_type": "error",
     "traceback": [
      "\u001b[1;31m---------------------------------------------------------------------------\u001b[0m",
      "\u001b[1;31mNameError\u001b[0m                                 Traceback (most recent call last)",
      "Input \u001b[1;32mIn [3]\u001b[0m, in \u001b[0;36m<cell line: 1>\u001b[1;34m()\u001b[0m\n\u001b[1;32m----> 1\u001b[0m \u001b[43mdataset\u001b[49m\u001b[38;5;241m.\u001b[39mdrop(\u001b[38;5;124m'\u001b[39m\u001b[38;5;124mstate\u001b[39m\u001b[38;5;124m'\u001b[39m, axis\u001b[38;5;241m=\u001b[39m\u001b[38;5;241m1\u001b[39m, inplace\u001b[38;5;241m=\u001b[39m\u001b[38;5;28;01mTrue\u001b[39;00m)\n",
      "\u001b[1;31mNameError\u001b[0m: name 'dataset' is not defined"
     ]
    }
   ],
   "source": [
    "dataset.drop('state', axis=1, inplace=True)"
   ]
  },
  {
   "cell_type": "code",
   "execution_count": null,
   "id": "0f516416",
   "metadata": {},
   "outputs": [],
   "source": [
    "from sklearn.model_selection import train_test_split\n",
    "from sklearn.neighbors import KNeighborsClassifier\n",
    "from sklearn import tree\n",
    "from sklearn.neighbors import KNeighborsRegressor\n",
    "from sklearn.metrics import accuracy_score\n",
    "import math\n",
    "from sklearn import preprocessing\n",
    "from sklearn import utils\n",
    "lab_enc = preprocessing.LabelEncoder()\n",
    "Y_train = lab_enc.fit_transform(Y_train)\n",
    "X_train = lab_enc.fit_transform(X_train)\n",
    "Y_test = lab_enc.fit_transform(Y_test)\n",
    "X_test = lab_enc.fit_transform(X_test)\n",
    "x = dataset.drop('interest_rate', 1)\n",
    "y = dataset.interest_rate\n",
    "\n",
    "X_train, X_test, Y_train, Y_test = train_test_split(x, y, test_size = 0.33, random_state=38)\n",
    "lab_enc = preprocessing.LabelEncoder()\n",
    "Y_train = lab_enc.fit_transform(Y_train)\n",
    "X_train = lab_enc.fit_transform(X_train)\n",
    "Y_test = lab_enc.fit_transform(Y_test)\n",
    "X_test = lab_enc.fit_transform(X_test)\n",
    "knn = KNeighborsClassifier(n_neighbors = 3)\n",
    "knn.fit(X_train, Y_train)\n",
    "prediction_knn = knn.predict(X_test)\n",
    "print(\"Prediction for test set: {}\".format(prediction_knn))\n",
    "print('Accuracy of the model: {:.2f}'.format(accuracy_score(Y_test, prediction_knn)*100))\n",
    "diff_knn = pd.DataFrame({'Actual value': Y_test, 'Predicted value': prediction_knn})\n",
    "diff_knn"
   ]
  },
  {
   "cell_type": "code",
   "execution_count": null,
   "id": "bf04090f",
   "metadata": {},
   "outputs": [],
   "source": []
  },
  {
   "cell_type": "code",
   "execution_count": 26,
   "id": "3184e6fc",
   "metadata": {},
   "outputs": [
    {
     "name": "stdout",
     "output_type": "stream",
     "text": [
      "<class 'pandas.core.frame.DataFrame'>\n",
      "RangeIndex: 10000 entries, 0 to 9999\n",
      "Data columns (total 48 columns):\n",
      " #   Column                        Non-Null Count  Dtype  \n",
      "---  ------                        --------------  -----  \n",
      " 0   emp_title                     10000 non-null  object \n",
      " 1   emp_length                    10000 non-null  float64\n",
      " 2   state                         10000 non-null  object \n",
      " 3   homeownership                 10000 non-null  object \n",
      " 4   annual_income                 10000 non-null  float64\n",
      " 5   verified_income               10000 non-null  object \n",
      " 6   debt_to_income                10000 non-null  float64\n",
      " 7   delinq_2y                     10000 non-null  int64  \n",
      " 8   earliest_credit_line          10000 non-null  int64  \n",
      " 9   inquiries_last_12m            10000 non-null  int64  \n",
      " 10  total_credit_lines            10000 non-null  int64  \n",
      " 11  open_credit_lines             10000 non-null  int64  \n",
      " 12  total_credit_limit            10000 non-null  int64  \n",
      " 13  total_credit_utilized         10000 non-null  int64  \n",
      " 14  num_collections_last_12m      10000 non-null  int64  \n",
      " 15  num_historical_failed_to_pay  10000 non-null  int64  \n",
      " 16  current_accounts_delinq       10000 non-null  int64  \n",
      " 17  total_collection_amount_ever  10000 non-null  int64  \n",
      " 18  current_installment_accounts  10000 non-null  int64  \n",
      " 19  accounts_opened_24m           10000 non-null  int64  \n",
      " 20  num_satisfactory_accounts     10000 non-null  int64  \n",
      " 21  num_accounts_30d_past_due     10000 non-null  int64  \n",
      " 22  num_active_debit_accounts     10000 non-null  int64  \n",
      " 23  total_debit_limit             10000 non-null  int64  \n",
      " 24  num_total_cc_accounts         10000 non-null  int64  \n",
      " 25  num_open_cc_accounts          10000 non-null  int64  \n",
      " 26  num_cc_carrying_balance       10000 non-null  int64  \n",
      " 27  num_mort_accounts             10000 non-null  int64  \n",
      " 28  account_never_delinq_percent  10000 non-null  float64\n",
      " 29  tax_liens                     10000 non-null  int64  \n",
      " 30  public_record_bankrupt        10000 non-null  int64  \n",
      " 31  loan_purpose                  10000 non-null  object \n",
      " 32  application_type              10000 non-null  object \n",
      " 33  loan_amount                   10000 non-null  int64  \n",
      " 34  term                          10000 non-null  int64  \n",
      " 35  interest_rate                 10000 non-null  float64\n",
      " 36  installment                   10000 non-null  float64\n",
      " 37  grade                         10000 non-null  object \n",
      " 38  sub_grade                     10000 non-null  object \n",
      " 39  issue_month                   10000 non-null  object \n",
      " 40  loan_status                   10000 non-null  object \n",
      " 41  initial_listing_status        10000 non-null  object \n",
      " 42  disbursement_method           10000 non-null  object \n",
      " 43  balance                       10000 non-null  float64\n",
      " 44  paid_total                    10000 non-null  float64\n",
      " 45  paid_principal                10000 non-null  float64\n",
      " 46  paid_interest                 10000 non-null  float64\n",
      " 47  paid_late_fees                10000 non-null  float64\n",
      "dtypes: float64(11), int64(25), object(12)\n",
      "memory usage: 3.7+ MB\n"
     ]
    }
   ],
   "source": [
    "dataset.info()"
   ]
  },
  {
   "cell_type": "code",
   "execution_count": null,
   "id": "eaf6b3cd",
   "metadata": {},
   "outputs": [],
   "source": []
  },
  {
   "cell_type": "code",
   "execution_count": null,
   "id": "fae32907",
   "metadata": {},
   "outputs": [],
   "source": []
  }
 ],
 "metadata": {
  "kernelspec": {
   "display_name": "Python 3 (ipykernel)",
   "language": "python",
   "name": "python3"
  },
  "language_info": {
   "codemirror_mode": {
    "name": "ipython",
    "version": 3
   },
   "file_extension": ".py",
   "mimetype": "text/x-python",
   "name": "python",
   "nbconvert_exporter": "python",
   "pygments_lexer": "ipython3",
   "version": "3.9.7"
  }
 },
 "nbformat": 4,
 "nbformat_minor": 5
}
